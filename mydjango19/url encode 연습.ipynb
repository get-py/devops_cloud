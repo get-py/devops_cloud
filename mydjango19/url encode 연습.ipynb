{
 "cells": [
  {
   "cell_type": "code",
   "execution_count": 1,
   "id": "853adbda",
   "metadata": {},
   "outputs": [],
   "source": [
    "from urllib.parse import urlencode\n",
    "data = {\n",
    "    \"key1\":\"value1\",\n",
    "    'key2':10,\n",
    "    'name': '방탄소년단',\n",
    "}"
   ]
  },
  {
   "cell_type": "code",
   "execution_count": 2,
   "id": "5e840c9b",
   "metadata": {},
   "outputs": [
    {
     "data": {
      "text/plain": [
       "'key1=value1&key2=10&name=%EB%B0%A9%ED%83%84%EC%86%8C%EB%85%84%EB%8B%A8'"
      ]
     },
     "execution_count": 2,
     "metadata": {},
     "output_type": "execute_result"
    }
   ],
   "source": [
    "# urlencoded 방식으로 인코딩\n",
    "\n",
    "urlencode(data)"
   ]
  },
  {
   "cell_type": "code",
   "execution_count": 4,
   "id": "4e287ccc",
   "metadata": {},
   "outputs": [
    {
     "data": {
      "text/plain": [
       "b'\\xeb\\xb0\\xa9\\xed\\x83\\x84\\xec\\x86\\x8c\\xeb\\x85\\x84\\xeb\\x8b\\xa8'"
      ]
     },
     "execution_count": 4,
     "metadata": {},
     "output_type": "execute_result"
    }
   ],
   "source": [
    "'방탄소년단'.encode('utf8')"
   ]
  },
  {
   "cell_type": "code",
   "execution_count": 5,
   "id": "82c17047",
   "metadata": {},
   "outputs": [
    {
     "data": {
      "text/plain": [
       "b'\\xb9\\xe6\\xc5\\xba\\xbc\\xd2\\xb3\\xe2\\xb4\\xdc'"
      ]
     },
     "execution_count": 5,
     "metadata": {},
     "output_type": "execute_result"
    }
   ],
   "source": [
    "'방탄소년단'.encode('cp949')"
   ]
  },
  {
   "cell_type": "code",
   "execution_count": 6,
   "id": "a59cb8fa",
   "metadata": {},
   "outputs": [
    {
     "data": {
      "text/plain": [
       "'방탄소년단'"
      ]
     },
     "execution_count": 6,
     "metadata": {},
     "output_type": "execute_result"
    }
   ],
   "source": [
    "b'\\xb9\\xe6\\xc5\\xba\\xbc\\xd2\\xb3\\xe2\\xb4\\xdc'.decode('cp949')"
   ]
  },
  {
   "cell_type": "code",
   "execution_count": null,
   "id": "d4ec0c48",
   "metadata": {},
   "outputs": [],
   "source": []
  }
 ],
 "metadata": {
  "kernelspec": {
   "display_name": "Python 3 (ipykernel)",
   "language": "python",
   "name": "python3"
  },
  "language_info": {
   "codemirror_mode": {
    "name": "ipython",
    "version": 3
   },
   "file_extension": ".py",
   "mimetype": "text/x-python",
   "name": "python",
   "nbconvert_exporter": "python",
   "pygments_lexer": "ipython3",
   "version": "3.10.0"
  }
 },
 "nbformat": 4,
 "nbformat_minor": 5
}
