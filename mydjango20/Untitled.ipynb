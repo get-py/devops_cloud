{
 "cells": [
  {
   "cell_type": "code",
   "execution_count": 9,
   "id": "a7a76e19",
   "metadata": {},
   "outputs": [],
   "source": [
    "import os\n",
    "\n",
    "os.environ[\"DJANGO_SETTINGS_MODULE\"] = \"mydjango20.settings\"\n",
    "os.environ[\"DJANGO_ALLOW_ASYNC_UNSAFE\"] = \"true\"\n",
    "\n",
    "import django\n",
    "django.setup()"
   ]
  },
  {
   "cell_type": "code",
   "execution_count": 10,
   "id": "75c7b86a",
   "metadata": {},
   "outputs": [],
   "source": [
    "from shop.models import Shop, Tag"
   ]
  },
  {
   "cell_type": "code",
   "execution_count": 11,
   "id": "f2ebad9f",
   "metadata": {},
   "outputs": [
    {
     "data": {
      "text/plain": [
       "<Shop: 리코타코>"
      ]
     },
     "execution_count": 11,
     "metadata": {},
     "output_type": "execute_result"
    }
   ],
   "source": [
    "shop = Shop.objects.get(pk=3)\n",
    "shop"
   ]
  },
  {
   "cell_type": "code",
   "execution_count": 20,
   "id": "9b67e157",
   "metadata": {},
   "outputs": [
    {
     "data": {
      "text/plain": [
       "[<Tag: 카페>, <Tag: 투썸플레이스>, <Tag: 제주도>]"
      ]
     },
     "execution_count": 20,
     "metadata": {},
     "output_type": "execute_result"
    }
   ],
   "source": [
    "tags = \"카페, 투썸플레이스, 제주도\"\n",
    "tag_list = []\n",
    "\n",
    "for word in tags.split(\",\"):\n",
    "    tag_name = word.strip()\n",
    "    tag, __ = Tag.objects.get_or_create(name=tag_name)\n",
    "    tag_list.append(tag)\n",
    "    \n",
    "tag_list"
   ]
  },
  {
   "cell_type": "code",
   "execution_count": 21,
   "id": "a6e26c95",
   "metadata": {},
   "outputs": [
    {
     "data": {
      "text/plain": [
       "<QuerySet []>"
      ]
     },
     "execution_count": 21,
     "metadata": {},
     "output_type": "execute_result"
    }
   ],
   "source": [
    "shop.tag_set.all()"
   ]
  },
  {
   "cell_type": "code",
   "execution_count": 22,
   "id": "e7238cf1",
   "metadata": {},
   "outputs": [],
   "source": [
    "shop.tag_set.add(*tag_list)  # 중복 add에 대한 처리가 내부적으로 되어있습니다.\n",
    "                             # * unpack 의 의미"
   ]
  },
  {
   "cell_type": "code",
   "execution_count": 23,
   "id": "db8b03a2",
   "metadata": {},
   "outputs": [
    {
     "data": {
      "text/plain": [
       "<QuerySet [<Tag: 제주도>, <Tag: 카페>, <Tag: 투썸플레이스>]>"
      ]
     },
     "execution_count": 23,
     "metadata": {},
     "output_type": "execute_result"
    }
   ],
   "source": [
    "shop.tag_set.all()"
   ]
  },
  {
   "cell_type": "code",
   "execution_count": 16,
   "id": "5aabdc57",
   "metadata": {},
   "outputs": [],
   "source": [
    "shop.tag_set.clear()"
   ]
  },
  {
   "cell_type": "code",
   "execution_count": null,
   "id": "f3a1165f",
   "metadata": {},
   "outputs": [],
   "source": []
  }
 ],
 "metadata": {
  "kernelspec": {
   "display_name": "Python 3 (ipykernel)",
   "language": "python",
   "name": "python3"
  },
  "language_info": {
   "codemirror_mode": {
    "name": "ipython",
    "version": 3
   },
   "file_extension": ".py",
   "mimetype": "text/x-python",
   "name": "python",
   "nbconvert_exporter": "python",
   "pygments_lexer": "ipython3",
   "version": "3.10.0"
  }
 },
 "nbformat": 4,
 "nbformat_minor": 5
}
