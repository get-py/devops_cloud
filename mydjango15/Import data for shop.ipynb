{
 "cells": [
  {
   "cell_type": "code",
   "execution_count": 1,
   "id": "d86ddb2c",
   "metadata": {},
   "outputs": [],
   "source": [
    "import os\n",
    "os.environ[\"DJANGO_SETTINGS_MODULE\"] = \"mydjango15.settings\"\n",
    "os.environ[\"DJANGO_ALLOW_ASYNC_UNSAFE\"] = \"true\"\n",
    "\n",
    "import django\n",
    "django.setup()"
   ]
  },
  {
   "cell_type": "code",
   "execution_count": 2,
   "id": "2af25fc3",
   "metadata": {},
   "outputs": [
    {
     "data": {
      "text/plain": [
       "[['name', 'description', 'address', 'coordinates', 'telephone'],\n",
       " ['파리바게트 대전 판암점',\n",
       "  '매일 07:00~24:00',\n",
       "  '대전 동구 옥천로 178-1',\n",
       "  '36.3170396,127.4602147',\n",
       "  '042-272-8838'],\n",
       " ['투썸플레이스 대전대동오거리점',\n",
       "  '로얄밀크티쉐이크, 티라미수 맛있음',\n",
       "  '대전 동구 계족로 156',\n",
       "  '36.327925,127.4441086',\n",
       "  '042-286-7001'],\n",
       " ['신선칼국수',\n",
       "  '칼국수 별로 안 좋아하는데도 괜찮았음',\n",
       "  '대전 동구 계족로 188',\n",
       "  '36.3303941,127.4422889',\n",
       "  '042-335-5252'],\n",
       " ['본죽 대전대동오거리점 ',\n",
       "  '2층, 다음에 아프면 가봐야지',\n",
       "  '대전 동구 동대전로 72',\n",
       "  '36.32905119999999,127.4424834',\n",
       "  '042-282-6288'],\n",
       " ['낭만커피', '1층', '대전 동구 동대전로 58', '36.3286017,127.4411868', '042-346-1010'],\n",
       " ['정봉자커피 대동점', 1, '대전 동구 계족로 182', '36.329991,127.4426404', '070-4155-0365'],\n",
       " ['스테이셔너리베이커리', '1층', '대전 동구 동대전로 99', '36.3312624,127.443929', 1],\n",
       " ['뉴타지마할인도음식점하랄',\n",
       "  '2층, 커리 먹고 싶다',\n",
       "  '대전 동구 동대전로 129',\n",
       "  '36.3337475,127.4453694',\n",
       "  1],\n",
       " ['역전할머니맥주 대전우송대점',\n",
       "  '1층',\n",
       "  '대전 동구 동대전로 138-1',\n",
       "  '36.3342474,127.4462648',\n",
       "  '042-626-2258'],\n",
       " ['놀러와플 우송대점', '102호', '대전 동구 동대전로 154', '36.3346397,127.4489285', 1],\n",
       " ['파스타마마',\n",
       "  '상가동 1층 101호',\n",
       "  '대전 동구 백룡로11번길 3',\n",
       "  '36.33961370000001,127.449859',\n",
       "  '042-719-1170'],\n",
       " ['써브웨이 대전우송대점',\n",
       "  '썹웨이는 좋은데 여긴 평점이 안 좋음',\n",
       "  '대전 동구 동대전로 168',\n",
       "  '36.3366305,127.447686',\n",
       "  '042-622-5979'],\n",
       " ['팔공티 우송대점',\n",
       "  '1층, 팔공티 너무 좋아',\n",
       "  '대전 동구 백룡로5번길 17',\n",
       "  '36.3369509,127.4481772',\n",
       "  '010-2672-2807'],\n",
       " ['하오츠마라탕 자양점',\n",
       "  '1층',\n",
       "  '대전 동구 동대전로 171-13',\n",
       "  '36.3370075,127.4471631',\n",
       "  '042-621-4777'],\n",
       " ['이토우야 우송대점', '1층 101호', '대전 동구 동대전로 170 ', '36.3368225,127.447874', 1],\n",
       " ['누룽지삼계탕', 1, '대전 동구 동대전로 223', '36.3414424,127.4484886', '042-623-8333']]"
      ]
     },
     "execution_count": 2,
     "metadata": {},
     "output_type": "execute_result"
    }
   ],
   "source": [
    "from openpyxl import load_workbook\n",
    "wb = load_workbook('mydjango15-data.xlsx')\n",
    "sheet = wb.active\n",
    "rows = [\n",
    "    [column.value for column in row]\n",
    "    for row in sheet\n",
    "]\n",
    "rows"
   ]
  },
  {
   "cell_type": "code",
   "execution_count": 3,
   "id": "ed318d04",
   "metadata": {},
   "outputs": [
    {
     "data": {
      "text/plain": [
       "['name', 'description', 'address', 'coordinates', 'telephone']"
      ]
     },
     "execution_count": 3,
     "metadata": {},
     "output_type": "execute_result"
    }
   ],
   "source": [
    "column_names = rows[0]\n",
    "column_names"
   ]
  },
  {
   "cell_type": "code",
   "execution_count": 4,
   "id": "71eb263c",
   "metadata": {},
   "outputs": [
    {
     "data": {
      "text/plain": [
       "[{'name': '파리바게트 대전 판암점',\n",
       "  'description': '매일 07:00~24:00',\n",
       "  'address': '대전 동구 옥천로 178-1',\n",
       "  'telephone': '042-272-8838',\n",
       "  'latitude': '36.3170396',\n",
       "  'longitude': '127.4602147'},\n",
       " {'name': '투썸플레이스 대전대동오거리점',\n",
       "  'description': '로얄밀크티쉐이크, 티라미수 맛있음',\n",
       "  'address': '대전 동구 계족로 156',\n",
       "  'telephone': '042-286-7001',\n",
       "  'latitude': '36.327925',\n",
       "  'longitude': '127.4441086'},\n",
       " {'name': '신선칼국수',\n",
       "  'description': '칼국수 별로 안 좋아하는데도 괜찮았음',\n",
       "  'address': '대전 동구 계족로 188',\n",
       "  'telephone': '042-335-5252',\n",
       "  'latitude': '36.3303941',\n",
       "  'longitude': '127.4422889'},\n",
       " {'name': '본죽 대전대동오거리점 ',\n",
       "  'description': '2층, 다음에 아프면 가봐야지',\n",
       "  'address': '대전 동구 동대전로 72',\n",
       "  'telephone': '042-282-6288',\n",
       "  'latitude': '36.32905119999999',\n",
       "  'longitude': '127.4424834'},\n",
       " {'name': '낭만커피',\n",
       "  'description': '1층',\n",
       "  'address': '대전 동구 동대전로 58',\n",
       "  'telephone': '042-346-1010',\n",
       "  'latitude': '36.3286017',\n",
       "  'longitude': '127.4411868'},\n",
       " {'name': '정봉자커피 대동점',\n",
       "  'description': 1,\n",
       "  'address': '대전 동구 계족로 182',\n",
       "  'telephone': '070-4155-0365',\n",
       "  'latitude': '36.329991',\n",
       "  'longitude': '127.4426404'},\n",
       " {'name': '스테이셔너리베이커리',\n",
       "  'description': '1층',\n",
       "  'address': '대전 동구 동대전로 99',\n",
       "  'telephone': 1,\n",
       "  'latitude': '36.3312624',\n",
       "  'longitude': '127.443929'},\n",
       " {'name': '뉴타지마할인도음식점하랄',\n",
       "  'description': '2층, 커리 먹고 싶다',\n",
       "  'address': '대전 동구 동대전로 129',\n",
       "  'telephone': 1,\n",
       "  'latitude': '36.3337475',\n",
       "  'longitude': '127.4453694'},\n",
       " {'name': '역전할머니맥주 대전우송대점',\n",
       "  'description': '1층',\n",
       "  'address': '대전 동구 동대전로 138-1',\n",
       "  'telephone': '042-626-2258',\n",
       "  'latitude': '36.3342474',\n",
       "  'longitude': '127.4462648'},\n",
       " {'name': '놀러와플 우송대점',\n",
       "  'description': '102호',\n",
       "  'address': '대전 동구 동대전로 154',\n",
       "  'telephone': 1,\n",
       "  'latitude': '36.3346397',\n",
       "  'longitude': '127.4489285'},\n",
       " {'name': '파스타마마',\n",
       "  'description': '상가동 1층 101호',\n",
       "  'address': '대전 동구 백룡로11번길 3',\n",
       "  'telephone': '042-719-1170',\n",
       "  'latitude': '36.33961370000001',\n",
       "  'longitude': '127.449859'},\n",
       " {'name': '써브웨이 대전우송대점',\n",
       "  'description': '썹웨이는 좋은데 여긴 평점이 안 좋음',\n",
       "  'address': '대전 동구 동대전로 168',\n",
       "  'telephone': '042-622-5979',\n",
       "  'latitude': '36.3366305',\n",
       "  'longitude': '127.447686'},\n",
       " {'name': '팔공티 우송대점',\n",
       "  'description': '1층, 팔공티 너무 좋아',\n",
       "  'address': '대전 동구 백룡로5번길 17',\n",
       "  'telephone': '010-2672-2807',\n",
       "  'latitude': '36.3369509',\n",
       "  'longitude': '127.4481772'},\n",
       " {'name': '하오츠마라탕 자양점',\n",
       "  'description': '1층',\n",
       "  'address': '대전 동구 동대전로 171-13',\n",
       "  'telephone': '042-621-4777',\n",
       "  'latitude': '36.3370075',\n",
       "  'longitude': '127.4471631'},\n",
       " {'name': '이토우야 우송대점',\n",
       "  'description': '1층 101호',\n",
       "  'address': '대전 동구 동대전로 170 ',\n",
       "  'telephone': 1,\n",
       "  'latitude': '36.3368225',\n",
       "  'longitude': '127.447874'},\n",
       " {'name': '누룽지삼계탕',\n",
       "  'description': 1,\n",
       "  'address': '대전 동구 동대전로 223',\n",
       "  'telephone': '042-623-8333',\n",
       "  'latitude': '36.3414424',\n",
       "  'longitude': '127.4484886'}]"
      ]
     },
     "execution_count": 4,
     "metadata": {},
     "output_type": "execute_result"
    }
   ],
   "source": [
    "row_list=[]\n",
    "\n",
    "\n",
    "for row in rows[1:]:\n",
    "    row_dict = dict(zip(column_names, row))\n",
    "    latitude, longitude = row_dict[\"coordinates\"].split(\",\")\n",
    "    row_dict[\"latitude\"]=latitude\n",
    "    row_dict[\"longitude\"]=longitude\n",
    "    del row_dict[\"coordinates\"]\n",
    "    row_list.append(row_dict)\n",
    "    \n",
    "row_list"
   ]
  },
  {
   "cell_type": "code",
   "execution_count": 5,
   "id": "dc5d6978",
   "metadata": {},
   "outputs": [],
   "source": [
    "from delicious.models import Shop"
   ]
  },
  {
   "cell_type": "code",
   "execution_count": 6,
   "id": "040767e9",
   "metadata": {},
   "outputs": [
    {
     "name": "stdout",
     "output_type": "stream",
     "text": [
      "Shop object (21)\n",
      "Shop object (22)\n",
      "Shop object (23)\n",
      "Shop object (24)\n",
      "Shop object (25)\n",
      "Shop object (26)\n",
      "Shop object (27)\n",
      "Shop object (28)\n",
      "Shop object (29)\n",
      "Shop object (30)\n",
      "Shop object (31)\n",
      "Shop object (32)\n",
      "Shop object (33)\n",
      "Shop object (34)\n",
      "Shop object (35)\n",
      "Shop object (36)\n"
     ]
    }
   ],
   "source": [
    "for row_dict in row_list:\n",
    "    shop = Shop(**row_dict) # unpack\n",
    "    shop.save()\n",
    "    print(shop)"
   ]
  },
  {
   "cell_type": "code",
   "execution_count": null,
   "id": "d1df4d95",
   "metadata": {},
   "outputs": [],
   "source": []
  },
  {
   "cell_type": "code",
   "execution_count": null,
   "id": "d514c8de",
   "metadata": {},
   "outputs": [],
   "source": []
  }
 ],
 "metadata": {
  "kernelspec": {
   "display_name": "Python 3 (ipykernel)",
   "language": "python",
   "name": "python3"
  },
  "language_info": {
   "codemirror_mode": {
    "name": "ipython",
    "version": 3
   },
   "file_extension": ".py",
   "mimetype": "text/x-python",
   "name": "python",
   "nbconvert_exporter": "python",
   "pygments_lexer": "ipython3",
   "version": "3.10.0"
  }
 },
 "nbformat": 4,
 "nbformat_minor": 5
}
